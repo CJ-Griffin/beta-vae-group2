{
  "cells": [
    {
      "cell_type": "code",
      "execution_count": null,
      "metadata": {
        "colab": {
          "background_save": true
        },
        "id": "1ABdlTGeh9il"
      },
      "outputs": [],
      "source": [
        "import torch\n",
        "import torch.nn as nn\n",
        "import torch.nn.functional as F\n",
        "import torchvision\n",
        "import time\n",
        "import numpy as np\n",
        "import matplotlib.pyplot as plt\n",
        "import math\n",
        "import torch.onnx\n",
        "import codecs, json"
      ]
    },
    {
      "cell_type": "code",
      "execution_count": null,
      "metadata": {
        "colab": {
          "base_uri": "https://localhost:8080/"
        },
        "id": "YlyVhLl8KDDn",
        "outputId": "6e5ca9fb-ed43-4787-9c24-6510d276c51d"
      },
      "outputs": [
        {
          "name": "stdout",
          "output_type": "stream",
          "text": [
            "Using cpu device\n"
          ]
        }
      ],
      "source": [
        "g_device = 'cuda' if torch.cuda.is_available() else 'cpu'\n",
        "print(f'Using {g_device} device')"
      ]
    },
    {
      "cell_type": "code",
      "execution_count": null,
      "metadata": {
        "colab": {
          "base_uri": "https://localhost:8080/",
          "height": 417,
          "referenced_widgets": [
            "d623d04f21024d12a20aa97c46e676ef",
            "26adcf70e2664b5a86404a0831cbf9bb",
            "2c3498f169c04b14bc4392a59b613d6d",
            "57f1c170ca204479a42789ee9f678ec7",
            "a0fe5a8cf8d745cf91fa8ae98161d37e",
            "b6313b0904464558a4cf9f128cf63f9c",
            "baa9502fadf54a33952f681a534624d6",
            "8cd0d5f69a664f8e84121b136f9b9a3a",
            "fdd0cb8870b84e13a860b8ffb5ea1ba9",
            "1c45fbd902cb48849ff0bf193ffb5fd1",
            "8afdc4ca96db4ddaafed440c495ae76d",
            "5dce9a0766cf4081887bd3c255e623e1",
            "d96074ca7b624fabb632ff4205e3b76f",
            "267ff875efab4c16902241b72f2820ec",
            "2a0b26f6977f4f88bba7c46e777e8831",
            "45a6098daaa74de18943042bb70e6cb5",
            "11cf4c4ed08b4b2d849cb023d2e5e825",
            "c73fd48e41b8495d8549bb0f5fef1ca5",
            "ba83630600a44b0d979563c5a58fc262",
            "ebd147d5834540528dd3dc097e9ddce1",
            "a6bf1e9751df48b989f30125122b9d04",
            "1213413514544f5f89dc30b1ca56bba2",
            "9a056700c2e546079506a0b99c09d086",
            "4999eed22373440591c816e5a9436584",
            "a03d70b31f7c4240a7cb19716a386592",
            "eb572a93d3864f979b8335d1789fb1c5",
            "52b1ba36c4724388af95817d6dfb565c",
            "f5aca07a448a4ed4841bee0d643bd2d5",
            "ee08839cb7624480a70e02fa7f236617",
            "6ea02a5e8f1b418dbbc2037282d15f2b",
            "94d571ba7f7144f084b6db80dbe59d5d",
            "5cee08a8e6c648d9a6f3affc421bba10",
            "7679f81b09974b13b3735cfbca9391c9",
            "afed6d1adf5641dba90bd46a8434ddfd",
            "cf50f139c2db4a60b7c582f6a5f11e96",
            "69e839c0415f48aaa1274025cdfe6289",
            "074a4c60d5cd44808d194704cc777dc7",
            "5c2e19d9077e4ea2b42474eee2d902b8",
            "3592b42c09364878a2de85606accdde8",
            "065f022805b34740a22307760d03c794",
            "78006c770f244c1d82f6a136b6c4fc12",
            "4fd150059bd1454d8a4142f4c8b40ce0",
            "91605680145545a1a8bd096779d7d6ed",
            "8f45f26ce85847efa6daf881ec5690a1"
          ]
        },
        "id": "_siwyN6Bll_A",
        "outputId": "21d8371e-f9f1-4bdd-f4f5-bc9d91e8f9c4"
      },
      "outputs": [
        {
          "name": "stdout",
          "output_type": "stream",
          "text": [
            "Downloading http://yann.lecun.com/exdb/mnist/train-images-idx3-ubyte.gz\n",
            "Downloading http://yann.lecun.com/exdb/mnist/train-images-idx3-ubyte.gz to /files/MNIST/raw/train-images-idx3-ubyte.gz\n"
          ]
        },
        {
          "data": {
            "application/vnd.jupyter.widget-view+json": {
              "model_id": "d623d04f21024d12a20aa97c46e676ef",
              "version_major": 2,
              "version_minor": 0
            },
            "text/plain": [
              "  0%|          | 0/9912422 [00:00<?, ?it/s]"
            ]
          },
          "metadata": {},
          "output_type": "display_data"
        },
        {
          "name": "stdout",
          "output_type": "stream",
          "text": [
            "Extracting /files/MNIST/raw/train-images-idx3-ubyte.gz to /files/MNIST/raw\n",
            "\n",
            "Downloading http://yann.lecun.com/exdb/mnist/train-labels-idx1-ubyte.gz\n",
            "Downloading http://yann.lecun.com/exdb/mnist/train-labels-idx1-ubyte.gz to /files/MNIST/raw/train-labels-idx1-ubyte.gz\n"
          ]
        },
        {
          "data": {
            "application/vnd.jupyter.widget-view+json": {
              "model_id": "5dce9a0766cf4081887bd3c255e623e1",
              "version_major": 2,
              "version_minor": 0
            },
            "text/plain": [
              "  0%|          | 0/28881 [00:00<?, ?it/s]"
            ]
          },
          "metadata": {},
          "output_type": "display_data"
        },
        {
          "name": "stdout",
          "output_type": "stream",
          "text": [
            "Extracting /files/MNIST/raw/train-labels-idx1-ubyte.gz to /files/MNIST/raw\n",
            "\n",
            "Downloading http://yann.lecun.com/exdb/mnist/t10k-images-idx3-ubyte.gz\n",
            "Downloading http://yann.lecun.com/exdb/mnist/t10k-images-idx3-ubyte.gz to /files/MNIST/raw/t10k-images-idx3-ubyte.gz\n"
          ]
        },
        {
          "data": {
            "application/vnd.jupyter.widget-view+json": {
              "model_id": "9a056700c2e546079506a0b99c09d086",
              "version_major": 2,
              "version_minor": 0
            },
            "text/plain": [
              "  0%|          | 0/1648877 [00:00<?, ?it/s]"
            ]
          },
          "metadata": {},
          "output_type": "display_data"
        },
        {
          "name": "stdout",
          "output_type": "stream",
          "text": [
            "Extracting /files/MNIST/raw/t10k-images-idx3-ubyte.gz to /files/MNIST/raw\n",
            "\n",
            "Downloading http://yann.lecun.com/exdb/mnist/t10k-labels-idx1-ubyte.gz\n",
            "Downloading http://yann.lecun.com/exdb/mnist/t10k-labels-idx1-ubyte.gz to /files/MNIST/raw/t10k-labels-idx1-ubyte.gz\n"
          ]
        },
        {
          "data": {
            "application/vnd.jupyter.widget-view+json": {
              "model_id": "afed6d1adf5641dba90bd46a8434ddfd",
              "version_major": 2,
              "version_minor": 0
            },
            "text/plain": [
              "  0%|          | 0/4542 [00:00<?, ?it/s]"
            ]
          },
          "metadata": {},
          "output_type": "display_data"
        },
        {
          "name": "stdout",
          "output_type": "stream",
          "text": [
            "Extracting /files/MNIST/raw/t10k-labels-idx1-ubyte.gz to /files/MNIST/raw\n",
            "\n"
          ]
        }
      ],
      "source": [
        "g_batch_size_train = 100\n",
        "g_batch_size_test = 1000\n",
        "\n",
        "def get_dataloader(batch_size, train):\n",
        "    return torch.utils.data.DataLoader(\n",
        "                            torchvision.datasets.MNIST('/files/', train=train, download=True,\n",
        "                            transform=torchvision.transforms.Compose([\n",
        "                                torchvision.transforms.ToTensor(),\n",
        "                                torchvision.transforms.Normalize(\n",
        "                                 (0.1307,), (0.3081,))\n",
        "                                ])),\n",
        "                            batch_size=batch_size, shuffle=True)\n",
        "\n",
        "\n",
        "g_train_loader = get_dataloader(batch_size = g_batch_size_train, train=True)\n",
        "g_test_loader = get_dataloader(batch_size = g_batch_size_test, train=False)"
      ]
    },
    {
      "cell_type": "code",
      "execution_count": null,
      "metadata": {
        "id": "2LEcEDK8utsf"
      },
      "outputs": [],
      "source": [
        "# def get_face_dataloader(batch_size, train):\n",
        "#     return torch.utils.data.DataLoader(\n",
        "#         torchvision.datasets.CelebA('/files/celeba/', train=train, download=True,\n",
        "#                                     transform=torchvision.transforms.Compose([\n",
        "#                                                                               torchvision.transforms.ToTensor(),\n",
        "#                                                                               torchvision.transforms.Normalize(\n",
        "#                                                                                   (0.1307,)\n",
        "#                                                                               )\n",
        "#                                     ])\n",
        "#     )\n",
        "#     return torch.utils.data.DataLoader(\n",
        "#                             torchvision.datasets.MNIST('/files/', train=train, download=True,\n",
        "#                             transform=torchvision.transforms.Compose([\n",
        "#                                 torchvision.transforms.ToTensor(),\n",
        "#                                 torchvision.transforms.Normalize(\n",
        "#                                  (0.1307,), (0.3081,))\n",
        "#                                 ])),\n",
        "#                             batch_size=batch_size, shuffle=True)"
      ]
    },
    {
      "cell_type": "code",
      "execution_count": null,
      "metadata": {
        "id": "gWNPL0e1lycH"
      },
      "outputs": [],
      "source": [
        "g_latent_space_size = 2\n",
        "\n",
        "class Encoder(nn.Module):\n",
        "    def __init__(self, latent_size=2):\n",
        "        super().__init__()\n",
        "\n",
        "        self.conv1 = nn.Conv2d(1, 10, kernel_size=5)\n",
        "        self.conv2 = nn.Conv2d(10, 20, kernel_size=5)\n",
        "        # self.conv2_drop = nn.Dropout2d()\n",
        "        self.fc1 = nn.Linear(320, 50)\n",
        "        self.fc2 = nn.Linear(50, latent_size)\n",
        "    \n",
        "    def forward(self, x):\n",
        "        x = self.conv1(x)\n",
        "        x = F.max_pool2d(x, 2)\n",
        "        x = F.relu(x)\n",
        "\n",
        "        x = self.conv2(x)\n",
        "        x = F.max_pool2d(x, 2)\n",
        "        x = F.relu(x)\n",
        "\n",
        "        x = x.view(-1, 320)\n",
        "        x = F.relu(self.fc1(x))\n",
        "        # x = F.dropout(x, training=self.training)\n",
        "        x = self.fc2(x)\n",
        "        return x\n",
        "\n",
        "# test_encoder = Encoder()\n",
        "\n",
        "# test_x0, _ = next(iter(g_train_loader))\n",
        "# test_output = encoder(test_x0)"
      ]
    },
    {
      "cell_type": "code",
      "execution_count": null,
      "metadata": {
        "id": "8vLg_BxptddC"
      },
      "outputs": [],
      "source": [
        "class Decoder(nn.Module):\n",
        "    def __init__(self, latent_size=2):\n",
        "        super().__init__()\n",
        "        \n",
        "        self.convT1 = nn.ConvTranspose2d(10, 1, kernel_size=5)\n",
        "        self.convT2 = nn.ConvTranspose2d(20, 10, kernel_size=5)\n",
        "        # self.conv2_drop = nn.Dropout2d()\n",
        "        self.fc1 = nn.Linear(50, 320)\n",
        "        self.fc2 = nn.Linear(latent_size, 50)\n",
        "\n",
        "    def forward(self, x):\n",
        "        x = F.relu(self.fc2(x))\n",
        "        x = F.relu(self.fc1(x))\n",
        "        x = x.view(-1, 20, 4, 4)\n",
        "\n",
        "        x = F.interpolate(x, scale_factor = 2, mode='nearest')\n",
        "        x = self.convT2(x)\n",
        "        x = F.relu(x)\n",
        "\n",
        "        x = F.interpolate(x, scale_factor = 2, mode='nearest')\n",
        "        x = self.convT1(x)\n",
        "        x = torch.sigmoid(x)\n",
        "\n",
        "        return x\n",
        "\n",
        "# test_decoder = Decoder()\n",
        "# test_reconstruction = decoder(test_output)"
      ]
    },
    {
      "cell_type": "code",
      "execution_count": null,
      "metadata": {
        "id": "uyCNiap3-Bf-"
      },
      "outputs": [],
      "source": [
        "def step_autoencoder(model, criterion, loader, optimizer, train=True):\n",
        "    if train:\n",
        "        model.train() # sets the module in training mode.\n",
        "    else:\n",
        "        model.eval()\n",
        "\n",
        "    total_loss = 0.0\n",
        "    total_n = 0\n",
        "    device = next(model.parameters()).device\n",
        "\n",
        "    for X, _ in loader:\n",
        "        X = X.to(device)\n",
        "\n",
        "        if train:\n",
        "            optimizer.zero_grad()\n",
        "\n",
        "        X_out = model(X)\n",
        "\n",
        "        losses = criterion(X_out, X)\n",
        "\n",
        "        total_loss += losses.sum().item()\n",
        "\n",
        "        if train:\n",
        "            batch_loss = losses.mean()\n",
        "            batch_loss.backward()\n",
        "            optimizer.step()\n",
        "\n",
        "        total_n += X.shape[0]\n",
        "\n",
        "    loss = total_loss / total_n\n",
        "    return loss"
      ]
    },
    {
      "cell_type": "code",
      "execution_count": null,
      "metadata": {
        "id": "MrGwPveyiJTS"
      },
      "outputs": [],
      "source": [
        "g_mseloss = torch.nn.MSELoss(reduction='none')\n",
        "def AE_Loss(X_out, X):\n",
        "    losses = g_mseloss(X_out, X)\n",
        "    losses = losses.view(losses.shape[0], -1) # flattening losses, keeping batch dimension 0\n",
        "    losses = losses.sum(dim=1)\n",
        "    return losses"
      ]
    },
    {
      "cell_type": "code",
      "execution_count": null,
      "metadata": {
        "id": "XbgqU8XO9p-x"
      },
      "outputs": [],
      "source": [
        "def train_and_plot(model, optimizer, criterion, epochs=3):\n",
        "    \n",
        "    start = time.time()\n",
        "\n",
        "    train_losses = np.empty(epochs)\n",
        "    test_losses = np.empty(epochs)\n",
        "    \n",
        "    for epoch in range(epochs):\n",
        "        train_losses[epoch] = step_autoencoder(model=model, criterion=criterion, loader=g_train_loader, optimizer=optimizer)\n",
        "        test_losses[epoch] =  step_autoencoder(model=model, criterion=criterion, loader=g_test_loader, optimizer=optimizer, train=False)\n",
        "        print(\"epoch {}: Test Loss {}\".format(epoch, test_losses[epoch]))\n",
        "        \n",
        "    print(\"time: {}\".format(time.time() - start))\n",
        "\n",
        "    plt.plot(range(len(train_losses)), train_losses, label=\"Train Loss\",)\n",
        "    plt.plot(range(len(test_losses)), test_losses, label=\"Test Loss\", alpha=0.9)\n",
        "    plt.legend()\n",
        "    plt.show()"
      ]
    },
    {
      "cell_type": "code",
      "execution_count": null,
      "metadata": {
        "colab": {
          "base_uri": "https://localhost:8080/",
          "height": 334
        },
        "id": "kjrJ1XrNDMhq",
        "outputId": "87b56c38-b80b-4f6c-8745-4554e9ad6d3a"
      },
      "outputs": [
        {
          "name": "stdout",
          "output_type": "stream",
          "text": [
            "epoch 0: Test Loss 555.1094125\n",
            "epoch 1: Test Loss 525.94505625\n",
            "epoch 2: Test Loss 517.0244625\n",
            "time: 175.27761721611023\n"
          ]
        },
        {
          "data": {
            "image/png": "[encoded data removed]",
            "text/plain": [
              "<Figure size 432x288 with 1 Axes>"
            ]
          },
          "metadata": {},
          "output_type": "display_data"
        }
      ],
      "source": [
        "g_encoder = Encoder()\n",
        "g_decoder = Decoder()\n",
        "\n",
        "g_model = nn.Sequential(g_encoder, g_decoder)\n",
        "g_model.to(g_device)\n",
        "g_optimizer = torch.optim.Adam(params=g_model.parameters(), lr=0.001)\n",
        "\n",
        "train_and_plot(model=g_model, optimizer=g_optimizer, criterion=AE_Loss, epochs=3)\n",
        "# cpu\n",
        "# time: 166.18881392478943\n",
        "# Test Loss: 0.539204965877533"
      ]
    },
    {
      "cell_type": "code",
      "execution_count": null,
      "metadata": {
        "id": "xTyPygIFTKeL"
      },
      "outputs": [],
      "source": [
        "# train_and_plot(model=g_model, optimizer=g_optimizer, criterion=AE_Loss, epochs=2)"
      ]
    },
    {
      "cell_type": "code",
      "execution_count": null,
      "metadata": {
        "id": "dDI2PjpSLplm"
      },
      "outputs": [],
      "source": [
        "def show_images(X):\n",
        "    fig = plt.figure()\n",
        "    X = X.detach().to('cpu')\n",
        "    n = X.shape[0]\n",
        "    nrows = 3\n",
        "    ncols = math.ceil(n / nrows)\n",
        "\n",
        "    for i in range(n):\n",
        "        plt.subplot(nrows, ncols, i+1)\n",
        "        plt.tight_layout()\n",
        "        plt.imshow(X[i][0], cmap='gray', interpolation='none')\n",
        "        plt.xticks([])\n",
        "        plt.yticks([])\n",
        "    plt.show()"
      ]
    },
    {
      "cell_type": "code",
      "execution_count": null,
      "metadata": {
        "colab": {
          "base_uri": "https://localhost:8080/",
          "height": 551
        },
        "id": "1zfRIzSwOzrR",
        "outputId": "3f0429fc-a8ca-4b2d-bcc1-af2827b11da8"
      },
      "outputs": [
        {
          "data": {
            "image/png": "[encoded data removed]",
            "text/plain": [
              "<Figure size 432x288 with 10 Axes>"
            ]
          },
          "metadata": {},
          "output_type": "display_data"
        },
        {
          "data": {
            "image/png": "[encoded data removed]",
            "text/plain": [
              "<Figure size 432x288 with 10 Axes>"
            ]
          },
          "metadata": {},
          "output_type": "display_data"
        }
      ],
      "source": [
        "g_test_examples, _ = next(iter(g_test_loader))\n",
        "g_test_examples = g_test_examples[:10, :].to(g_device)\n",
        "\n",
        "show_images(g_test_examples)\n",
        "show_images(g_model(g_test_examples))"
      ]
    },
    {
      "cell_type": "code",
      "execution_count": null,
      "metadata": {
        "colab": {
          "base_uri": "https://localhost:8080/",
          "height": 282
        },
        "id": "pniyEEdRPOxn",
        "outputId": "49895171-30ae-458c-f717-859826e81bc6"
      },
      "outputs": [
        {
          "name": "stdout",
          "output_type": "stream",
          "text": [
            "torch.Size([1000, 1, 28, 28])\n"
          ]
        },
        {
          "data": {
            "image/png": "[encoded data removed]",
            "text/plain": [
              "<Figure size 432x288 with 1 Axes>"
            ]
          },
          "metadata": {},
          "output_type": "display_data"
        }
      ],
      "source": [
        "def visualize_latent_space(X):\n",
        "    X = X.to(next(g_encoder.parameters()).device)\n",
        "    Z = g_encoder(X)\n",
        "    Z = Z.to('cpu').detach()\n",
        "\n",
        "    plt.scatter(Z[:, 0], Z[:, 1])\n",
        "\n",
        "g_examples_loader = get_dataloader(batch_size = 1000, train=False)\n",
        "g_test_examples, _ = next(iter(g_examples_loader))\n",
        "print(g_test_examples.shape)\n",
        "\n",
        "visualize_latent_space(g_test_examples)"
      ]
    },
    {
      "cell_type": "code",
      "execution_count": null,
      "metadata": {
        "id": "nLFpGql-8kc8"
      },
      "outputs": [],
      "source": [
        "class To_Canvas_Format(nn.Module):\n",
        "    def __init__(self):\n",
        "        super().__init__()\n",
        "\n",
        "    def forward(self, x):\n",
        "        x = x[0, :] # only one image, not whole batch\n",
        "        x = torch.mul(x, 255).type(torch.uint8).repeat(3,1,1) # from grayscale to rgb\n",
        "        x = F.pad(x, (0,0, 0,0, 0,1), value=255) # from rgb to rgba\n",
        "\n",
        "        x = torch.permute(x, (1,2,0)) # set to pixel.x, pixel.y, rgba\n",
        "        return x"
      ]
    },
    {
      "cell_type": "code",
      "execution_count": null,
      "metadata": {
        "colab": {
          "base_uri": "https://localhost:8080/"
        },
        "id": "9InxRUDYPUuc",
        "outputId": "465e4672-b604-430a-dbb7-e11bf43e6fba"
      },
      "outputs": [
        {
          "name": "stderr",
          "output_type": "stream",
          "text": [
            "/usr/local/lib/python3.7/dist-packages/torch/onnx/symbolic_helper.py:716: UserWarning: allowzero=0 by default. In order to honor zero value in shape use allowzero=1\n",
            "  warnings.warn(\"allowzero=0 by default. In order to honor zero value in shape use allowzero=1\")\n"
          ]
        }
      ],
      "source": [
        "# # exporting the model\n",
        "\n",
        "def export_onnx(model, dummy_input, file_name):\n",
        "    torch.onnx.export(  model,                     # model being run\n",
        "                        dummy_input,               # model input (or a tuple for multiple inputs)\n",
        "                        file_name,                      # where to save the model (can be a file or file-like object)\n",
        "                        export_params=True,        # store the trained parameter weights inside the model file\n",
        "                        opset_version= 14,          # the ONNX version to export the model to\n",
        "                        do_constant_folding=True,  # whether to execute constant folding for optimization\n",
        "                        input_names = ['input'],   # the model's input names\n",
        "                        output_names = ['output'], # the model's output names\n",
        "                        dynamic_axes={'input' : {0 : 'batch_size'},    # variable length axes\n",
        "                                      'output' : {0 : 'batch_size'}})\n",
        "\n",
        "g_encoder.to(g_device)\n",
        "g_decoder.to(g_device)\n",
        "g_tocanvas = To_Canvas_Format().to(g_device)\n",
        "g_decoder_export = nn.Sequential(g_decoder, g_tocanvas)\n",
        "\n",
        "g_dummy_input, g_dummy_input_y = next(iter(g_test_loader))\n",
        "g_dummy_input = g_dummy_input.to(g_device)\n",
        "\n",
        "g_dummy_latent = g_encoder(g_dummy_input)\n",
        "g_dummy_output = g_decoder_export(g_dummy_latent)\n",
        "\n",
        "export_onnx(model=g_encoder, dummy_input=g_dummy_input, file_name=\"encoder.onnx\")\n",
        "export_onnx(model=g_decoder_export, dummy_input=g_dummy_latent, file_name=\"decoder.onnx\")"
      ]
    },
    {
      "cell_type": "code",
      "execution_count": null,
      "metadata": {
        "id": "6JpRAnkfm7pz"
      },
      "outputs": [],
      "source": [
        "# output some example data as json\n",
        "\n",
        "def export_data_to_json(dataloader, n, name):\n",
        "    export_list_X = []\n",
        "    export_list_Y = []\n",
        "    for X, Y in dataloader:\n",
        "        taking = min(len(X), n-len(export_list_X))\n",
        "        if taking <= 0:\n",
        "            break\n",
        "        export_list_X.extend(X.tolist())\n",
        "        export_list_Y.extend(Y.tolist())\n",
        "    json.dump(export_list_X, codecs.open(name+\"_X.json\", 'w', encoding='utf-8'), \n",
        "            separators=(',', ':'), \n",
        "            indent=4)\n",
        "    json.dump(export_list_Y, codecs.open(name+\"_Y.json\", 'w', encoding='utf-8'), \n",
        "            separators=(',', ':'),\n",
        "            indent=4)\n",
        "\n",
        "export_data_to_json(g_test_loader, 5000, \"mnist\")"
      ]
    },
    {
      "cell_type": "code",
      "execution_count": null,
      "metadata": {
        "colab": {
          "base_uri": "https://localhost:8080/"
        },
        "id": "NSFK0iIIn1Dz",
        "outputId": "d2dc0ba7-7004-4572-e415-2bde4469afa7"
      },
      "outputs": [
        {
          "name": "stdout",
          "output_type": "stream",
          "text": [
            "torch.Size([1000])\n"
          ]
        }
      ],
      "source": [
        "#################  VAE  ##################\n",
        "\n",
        "class VAE(nn.Module):\n",
        "    def __init__(self, latent_size=2):\n",
        "        super().__init__()\n",
        "        self.latent_size = latent_size\n",
        "        self.encoder = Encoder(latent_size*2)\n",
        "        self.decoder = Decoder(latent_size)\n",
        "    \n",
        "    def forward(self, X):\n",
        "        X = self.encoder(X)\n",
        "        mu, log_var = torch.split(X, self.latent_size, dim=1)\n",
        "\n",
        "        Z_0 = torch.randn_like(mu)\n",
        "        Z = Z_0 * torch.exp(0.5 * log_var) + mu\n",
        "\n",
        "        X = self.decoder(Z)\n",
        "        \n",
        "        # we need to also return the KL term for the loss:\n",
        "        KL = -0.5 * torch.sum(1 + log_var - mu ** 2 - log_var.exp(), dim=1)\n",
        "\n",
        "        # KL = torch.zeros_like(KL) # TODO remove, just seeing what happens\n",
        "        \n",
        "        return (X, KL)\n",
        "\n",
        "def VAE_Loss(model_output, X):\n",
        "    X_out, KL = model_output\n",
        "    return AE_Loss(X_out, X) + KL\n",
        "\n",
        "g_vae = VAE()\n",
        "foo_modelin = next(iter(g_test_loader))[0]\n",
        "foo_modelout = g_vae(foo_modelin)\n",
        "print(VAE_Loss(foo_modelout, foo_modelin).shape)"
      ]
    },
    {
      "cell_type": "code",
      "execution_count": null,
      "metadata": {
        "id": "VPx9jCNzX8yd"
      },
      "outputs": [],
      "source": [
        "g_vae = VAE()\n",
        "g_vae.to(g_device)\n",
        "g_vae_optimizer = torch.optim.Adam(params=g_vae.parameters(), lr=0.001)"
      ]
    },
    {
      "cell_type": "code",
      "execution_count": null,
      "metadata": {
        "colab": {
          "base_uri": "https://localhost:8080/",
          "height": 1000
        },
        "id": "FG5GMsMk4vyo",
        "outputId": "753625b9-f508-48a7-aaf5-dedfaa4c080b"
      },
      "outputs": [
        {
          "name": "stdout",
          "output_type": "stream",
          "text": [
            "epoch 0: Test Loss 545.36024375\n",
            "epoch 1: Test Loss 532.4943375\n",
            "epoch 2: Test Loss 526.816471875\n",
            "epoch 3: Test Loss 519.22805\n",
            "epoch 4: Test Loss 517.6081125\n",
            "time: 297.6318690776825\n"
          ]
        },
        {
          "data": {
            "image/png": "[encoded data removed]",
            "text/plain": [
              "<Figure size 432x288 with 1 Axes>"
            ]
          },
          "metadata": {},
          "output_type": "display_data"
        },
        {
          "name": "stdout",
          "output_type": "stream",
          "text": [
            "epoch 0: Test Loss 513.242665625\n",
            "epoch 1: Test Loss 510.874478125\n",
            "epoch 2: Test Loss 509.54469375\n",
            "epoch 3: Test Loss 508.206778125\n",
            "epoch 4: Test Loss 506.320559375\n",
            "time: 308.8749141693115\n"
          ]
        },
        {
          "data": {
            "image/png": "[encoded data removed]",
            "text/plain": [
              "<Figure size 432x288 with 1 Axes>"
            ]
          },
          "metadata": {},
          "output_type": "display_data"
        },
        {
          "name": "stdout",
          "output_type": "stream",
          "text": [
            "epoch 0: Test Loss 504.855334375\n",
            "epoch 1: Test Loss 504.988096875\n",
            "epoch 2: Test Loss 503.398965625\n",
            "epoch 3: Test Loss 503.19919375\n",
            "epoch 4: Test Loss 503.57635625\n",
            "time: 307.4080080986023\n"
          ]
        },
        {
          "data": {
            "image/png": "[encoded data removed]",
            "text/plain": [
              "<Figure size 432x288 with 1 Axes>"
            ]
          },
          "metadata": {},
          "output_type": "display_data"
        },
        {
          "name": "stdout",
          "output_type": "stream",
          "text": [
            "epoch 0: Test Loss 502.178034375\n",
            "epoch 1: Test Loss 501.38411875\n",
            "epoch 2: Test Loss 503.23866875\n",
            "epoch 3: Test Loss 500.854584375\n",
            "epoch 4: Test Loss 500.758784375\n",
            "time: 306.0238518714905\n"
          ]
        },
        {
          "data": {
            "image/png": "[encoded data removed]",
            "text/plain": [
              "<Figure size 432x288 with 1 Axes>"
            ]
          },
          "metadata": {},
          "output_type": "display_data"
        }
      ],
      "source": [
        "train_and_plot(model=g_vae, optimizer=g_vae_optimizer, epochs=5, criterion = VAE_Loss)\n",
        "train_and_plot(model=g_vae, optimizer=g_vae_optimizer, epochs=5, criterion = VAE_Loss)\n",
        "train_and_plot(model=g_vae, optimizer=g_vae_optimizer, epochs=5, criterion = VAE_Loss)\n",
        "train_and_plot(model=g_vae, optimizer=g_vae_optimizer, epochs=5, criterion = VAE_Loss)"
      ]
    },
    {
      "cell_type": "code",
      "execution_count": null,
      "metadata": {
        "colab": {
          "base_uri": "https://localhost:8080/",
          "height": 551
        },
        "id": "PphlRFQmqJkH",
        "outputId": "8fc1cfbc-d97d-4bd0-ce40-d9898cc7bcd8"
      },
      "outputs": [
        {
          "data": {
            "image/png": "[encoded data removed]",
            "text/plain": [
              "<Figure size 432x288 with 10 Axes>"
            ]
          },
          "metadata": {},
          "output_type": "display_data"
        },
        {
          "data": {
            "image/png": "[encoded data removed]",
            "text/plain": [
              "<Figure size 432x288 with 10 Axes>"
            ]
          },
          "metadata": {},
          "output_type": "display_data"
        }
      ],
      "source": [
        "g_test_examples, _ = next(iter(g_test_loader))\n",
        "g_test_examples = g_test_examples[:10, :].to(g_device)\n",
        "\n",
        "show_images(g_test_examples)\n",
        "g_vae_X_out, _ = g_vae(g_test_examples)\n",
        "show_images(g_vae_X_out)"
      ]
    },
    {
      "cell_type": "code",
      "execution_count": null,
      "metadata": {
        "colab": {
          "base_uri": "https://localhost:8080/",
          "height": 367
        },
        "id": "XFCDC-m21VAS",
        "outputId": "3c862748-e302-4338-c580-1921070bc6b8"
      },
      "outputs": [
        {
          "name": "stdout",
          "output_type": "stream",
          "text": [
            "epoch 0: Test Loss 500.53235\n",
            "epoch 1: Test Loss 499.961065625\n",
            "epoch 2: Test Loss 500.40820625\n",
            "epoch 3: Test Loss 500.059234375\n",
            "epoch 4: Test Loss 499.537071875\n",
            "time: 308.0777769088745\n"
          ]
        },
        {
          "data": {
            "image/png": "[encoded data removed]",
            "text/plain": [
              "<Figure size 432x288 with 1 Axes>"
            ]
          },
          "metadata": {},
          "output_type": "display_data"
        }
      ],
      "source": [
        "g_vae_optimizer.lr = 0.0001\n",
        "train_and_plot(model=g_vae, optimizer=g_vae_optimizer, epochs=5, criterion = VAE_Loss)"
      ]
    },
    {
      "cell_type": "code",
      "execution_count": null,
      "metadata": {
        "colab": {
          "base_uri": "https://localhost:8080/",
          "height": 551
        },
        "id": "PO-vzky-1igU",
        "outputId": "63e185c8-697c-4def-d26c-86a443426280"
      },
      "outputs": [
        {
          "data": {
            "image/png": "[encoded data removed]",
            "text/plain": [
              "<Figure size 432x288 with 10 Axes>"
            ]
          },
          "metadata": {},
          "output_type": "display_data"
        },
        {
          "data": {
            "image/png": "[encoded data removed]",
            "text/plain": [
              "<Figure size 432x288 with 10 Axes>"
            ]
          },
          "metadata": {},
          "output_type": "display_data"
        }
      ],
      "source": [
        "show_images(g_test_examples)\n",
        "g_vae_X_out, _ = g_vae(g_test_examples)\n",
        "show_images(g_vae_X_out)"
      ]
    },
    {
      "cell_type": "code",
      "execution_count": null,
      "metadata": {
        "colab": {
          "base_uri": "https://localhost:8080/",
          "height": 370
        },
        "id": "e9Bmn-7n8i_7",
        "outputId": "f006fc15-78f3-4776-d39b-382358cdacc5"
      },
      "outputs": [
        {
          "name": "stdout",
          "output_type": "stream",
          "text": [
            "epoch 0: Test Loss 499.674203125\n",
            "epoch 1: Test Loss 499.114309375\n",
            "epoch 2: Test Loss 498.495415625\n",
            "epoch 3: Test Loss 498.598459375\n",
            "epoch 4: Test Loss 499.0768375\n",
            "time: 519.7243065834045\n"
          ]
        },
        {
          "data": {
            "image/png": "[encoded data removed]",
            "text/plain": [
              "<Figure size 432x288 with 1 Axes>"
            ]
          },
          "metadata": {},
          "output_type": "display_data"
        }
      ],
      "source": [
        "g_vae_optimizer.lr = 0.00001\n",
        "train_and_plot(model=g_vae, optimizer=g_vae_optimizer, epochs=5, criterion = VAE_Loss)"
      ]
    },
    {
      "cell_type": "code",
      "execution_count": null,
      "metadata": {
        "colab": {
          "base_uri": "https://localhost:8080/",
          "height": 551
        },
        "id": "l6Y6EWph9ADf",
        "outputId": "f238b44a-f704-442b-a5a3-a9edbb4d70fc"
      },
      "outputs": [
        {
          "data": {
            "image/png": "[encoded data removed]",
            "text/plain": [
              "<Figure size 432x288 with 10 Axes>"
            ]
          },
          "metadata": {},
          "output_type": "display_data"
        },
        {
          "data": {
            "image/png": "[encoded data removed]",
            "text/plain": [
              "<Figure size 432x288 with 10 Axes>"
            ]
          },
          "metadata": {},
          "output_type": "display_data"
        }
      ],
      "source": [
        "show_images(g_test_examples)\n",
        "g_vae_X_out, _ = g_vae(g_test_examples)\n",
        "show_images(g_vae_X_out)"
      ]
    },
    {
      "cell_type": "code",
      "execution_count": null,
      "metadata": {
        "id": "hHg7CZl4qLDK"
      },
      "outputs": [],
      "source": [
        "class VAE_to_encoder(nn.Module):\n",
        "    def __init__(self, vae):\n",
        "        super().__init__()\n",
        "        self.encoder = vae.encoder\n",
        "        self.latent_size = vae.latent_size\n",
        "    \n",
        "    def forward(self, X):\n",
        "        X = self.encoder(X)\n",
        "        mu, log_var = torch.split(X, self.latent_size, dim=1)\n",
        "        return mu"
      ]
    },
    {
      "cell_type": "code",
      "execution_count": null,
      "metadata": {
        "colab": {
          "base_uri": "https://localhost:8080/"
        },
        "id": "hA9bioNYq4gI",
        "outputId": "094c385f-5e9b-4f14-a08f-36d57ea5c2c9"
      },
      "outputs": [
        {
          "name": "stderr",
          "output_type": "stream",
          "text": [
            "/usr/local/lib/python3.7/dist-packages/torch/onnx/symbolic_helper.py:716: UserWarning: allowzero=0 by default. In order to honor zero value in shape use allowzero=1\n",
            "  warnings.warn(\"allowzero=0 by default. In order to honor zero value in shape use allowzero=1\")\n"
          ]
        }
      ],
      "source": [
        "g_vae.to(g_device)\n",
        "g_vae_tocanvas = To_Canvas_Format().to(g_device)\n",
        "g_vae_decoder_export = nn.Sequential(g_vae.decoder, g_tocanvas)\n",
        "g_vae_encoder = VAE_to_encoder(g_vae)\n",
        "\n",
        "g_vae_dummy_input, g_vae_dummy_input_y = next(iter(g_test_loader))\n",
        "g_vae_dummy_input = g_vae_dummy_input.to(g_device)\n",
        "\n",
        "g_vae_dummy_latent = g_vae_encoder(g_vae_dummy_input)\n",
        "g_vae_dummy_output = g_vae_decoder_export(g_vae_dummy_latent)\n",
        "\n",
        "export_onnx(model=g_vae_encoder, dummy_input=g_vae_dummy_input, file_name=\"vae_encoder.onnx\")\n",
        "export_onnx(model=g_vae_decoder_export, dummy_input=g_vae_dummy_latent, file_name=\"vae_decoder.onnx\")"
      ]
    }
  ],
  "metadata": {
    "colab": {
      "collapsed_sections": [],
      "name": "encoder experiments.ipynb",
      "provenance": []
    },
    "kernelspec": {
      "display_name": "Python 3",
      "name": "python3"
    },
    "language_info": {
      "name": "python"
    },
    "widgets": {
      "application/vnd.jupyter.widget-state+json": {
        "065f022805b34740a22307760d03c794": {
          "model_module": "@jupyter-widgets/controls",
          "model_module_version": "1.5.0",
          "model_name": "DescriptionStyleModel",
          "state": {
            "_model_module": "@jupyter-widgets/controls",
            "_model_module_version": "1.5.0",
            "_model_name": "DescriptionStyleModel",
            "_view_count": null,
            "_view_module": "@jupyter-widgets/base",
            "_view_module_version": "1.2.0",
            "_view_name": "StyleView",
            "description_width": ""
          }
        },
        "074a4c60d5cd44808d194704cc777dc7": {
          "model_module": "@jupyter-widgets/controls",
          "model_module_version": "1.5.0",
          "model_name": "HTMLModel",
          "state": {
            "_dom_classes": [],
            "_model_module": "@jupyter-widgets/controls",
            "_model_module_version": "1.5.0",
            "_model_name": "HTMLModel",
            "_view_count": null,
            "_view_module": "@jupyter-widgets/controls",
            "_view_module_version": "1.5.0",
            "_view_name": "HTMLView",
            "description": "",
            "description_tooltip": null,
            "layout": "IPY_MODEL_91605680145545a1a8bd096779d7d6ed",
            "placeholder": "​",
            "style": "IPY_MODEL_8f45f26ce85847efa6daf881ec5690a1",
            "value": " 5120/? [00:00&lt;00:00, 102397.66it/s]"
          }
        },
        "11cf4c4ed08b4b2d849cb023d2e5e825": {
          "model_module": "@jupyter-widgets/base",
          "model_module_version": "1.2.0",
          "model_name": "LayoutModel",
          "state": {
            "_model_module": "@jupyter-widgets/base",
            "_model_module_version": "1.2.0",
            "_model_name": "LayoutModel",
            "_view_count": null,
            "_view_module": "@jupyter-widgets/base",
            "_view_module_version": "1.2.0",
            "_view_name": "LayoutView",
            "align_content": null,
            "align_items": null,
            "align_self": null,
            "border": null,
            "bottom": null,
            "display": null,
            "flex": null,
            "flex_flow": null,
            "grid_area": null,
            "grid_auto_columns": null,
            "grid_auto_flow": null,
            "grid_auto_rows": null,
            "grid_column": null,
            "grid_gap": null,
            "grid_row": null,
            "grid_template_areas": null,
            "grid_template_columns": null,
            "grid_template_rows": null,
            "height": null,
            "justify_content": null,
            "justify_items": null,
            "left": null,
            "margin": null,
            "max_height": null,
            "max_width": null,
            "min_height": null,
            "min_width": null,
            "object_fit": null,
            "object_position": null,
            "order": null,
            "overflow": null,
            "overflow_x": null,
            "overflow_y": null,
            "padding": null,
            "right": null,
            "top": null,
            "visibility": null,
            "width": null
          }
        },
        "1213413514544f5f89dc30b1ca56bba2": {
          "model_module": "@jupyter-widgets/controls",
          "model_module_version": "1.5.0",
          "model_name": "DescriptionStyleModel",
          "state": {
            "_model_module": "@jupyter-widgets/controls",
            "_model_module_version": "1.5.0",
            "_model_name": "DescriptionStyleModel",
            "_view_count": null,
            "_view_module": "@jupyter-widgets/base",
            "_view_module_version": "1.2.0",
            "_view_name": "StyleView",
            "description_width": ""
          }
        },
        "1c45fbd902cb48849ff0bf193ffb5fd1": {
          "model_module": "@jupyter-widgets/base",
          "model_module_version": "1.2.0",
          "model_name": "LayoutModel",
          "state": {
            "_model_module": "@jupyter-widgets/base",
            "_model_module_version": "1.2.0",
            "_model_name": "LayoutModel",
            "_view_count": null,
            "_view_module": "@jupyter-widgets/base",
            "_view_module_version": "1.2.0",
            "_view_name": "LayoutView",
            "align_content": null,
            "align_items": null,
            "align_self": null,
            "border": null,
            "bottom": null,
            "display": null,
            "flex": null,
            "flex_flow": null,
            "grid_area": null,
            "grid_auto_columns": null,
            "grid_auto_flow": null,
            "grid_auto_rows": null,
            "grid_column": null,
            "grid_gap": null,
            "grid_row": null,
            "grid_template_areas": null,
            "grid_template_columns": null,
            "grid_template_rows": null,
            "height": null,
            "justify_content": null,
            "justify_items": null,
            "left": null,
            "margin": null,
            "max_height": null,
            "max_width": null,
            "min_height": null,
            "min_width": null,
            "object_fit": null,
            "object_position": null,
            "order": null,
            "overflow": null,
            "overflow_x": null,
            "overflow_y": null,
            "padding": null,
            "right": null,
            "top": null,
            "visibility": null,
            "width": null
          }
        },
        "267ff875efab4c16902241b72f2820ec": {
          "model_module": "@jupyter-widgets/controls",
          "model_module_version": "1.5.0",
          "model_name": "FloatProgressModel",
          "state": {
            "_dom_classes": [],
            "_model_module": "@jupyter-widgets/controls",
            "_model_module_version": "1.5.0",
            "_model_name": "FloatProgressModel",
            "_view_count": null,
            "_view_module": "@jupyter-widgets/controls",
            "_view_module_version": "1.5.0",
            "_view_name": "ProgressView",
            "bar_style": "success",
            "description": "",
            "description_tooltip": null,
            "layout": "IPY_MODEL_ba83630600a44b0d979563c5a58fc262",
            "max": 28881,
            "min": 0,
            "orientation": "horizontal",
            "style": "IPY_MODEL_ebd147d5834540528dd3dc097e9ddce1",
            "value": 28881
          }
        },
        "26adcf70e2664b5a86404a0831cbf9bb": {
          "model_module": "@jupyter-widgets/controls",
          "model_module_version": "1.5.0",
          "model_name": "HTMLModel",
          "state": {
            "_dom_classes": [],
            "_model_module": "@jupyter-widgets/controls",
            "_model_module_version": "1.5.0",
            "_model_name": "HTMLModel",
            "_view_count": null,
            "_view_module": "@jupyter-widgets/controls",
            "_view_module_version": "1.5.0",
            "_view_name": "HTMLView",
            "description": "",
            "description_tooltip": null,
            "layout": "IPY_MODEL_b6313b0904464558a4cf9f128cf63f9c",
            "placeholder": "​",
            "style": "IPY_MODEL_baa9502fadf54a33952f681a534624d6",
            "value": ""
          }
        },
        "2a0b26f6977f4f88bba7c46e777e8831": {
          "model_module": "@jupyter-widgets/controls",
          "model_module_version": "1.5.0",
          "model_name": "HTMLModel",
          "state": {
            "_dom_classes": [],
            "_model_module": "@jupyter-widgets/controls",
            "_model_module_version": "1.5.0",
            "_model_name": "HTMLModel",
            "_view_count": null,
            "_view_module": "@jupyter-widgets/controls",
            "_view_module_version": "1.5.0",
            "_view_name": "HTMLView",
            "description": "",
            "description_tooltip": null,
            "layout": "IPY_MODEL_a6bf1e9751df48b989f30125122b9d04",
            "placeholder": "​",
            "style": "IPY_MODEL_1213413514544f5f89dc30b1ca56bba2",
            "value": " 29696/? [00:00&lt;00:00, 641399.71it/s]"
          }
        },
        "2c3498f169c04b14bc4392a59b613d6d": {
          "model_module": "@jupyter-widgets/controls",
          "model_module_version": "1.5.0",
          "model_name": "FloatProgressModel",
          "state": {
            "_dom_classes": [],
            "_model_module": "@jupyter-widgets/controls",
            "_model_module_version": "1.5.0",
            "_model_name": "FloatProgressModel",
            "_view_count": null,
            "_view_module": "@jupyter-widgets/controls",
            "_view_module_version": "1.5.0",
            "_view_name": "ProgressView",
            "bar_style": "success",
            "description": "",
            "description_tooltip": null,
            "layout": "IPY_MODEL_8cd0d5f69a664f8e84121b136f9b9a3a",
            "max": 9912422,
            "min": 0,
            "orientation": "horizontal",
            "style": "IPY_MODEL_fdd0cb8870b84e13a860b8ffb5ea1ba9",
            "value": 9912422
          }
        },
        "3592b42c09364878a2de85606accdde8": {
          "model_module": "@jupyter-widgets/base",
          "model_module_version": "1.2.0",
          "model_name": "LayoutModel",
          "state": {
            "_model_module": "@jupyter-widgets/base",
            "_model_module_version": "1.2.0",
            "_model_name": "LayoutModel",
            "_view_count": null,
            "_view_module": "@jupyter-widgets/base",
            "_view_module_version": "1.2.0",
            "_view_name": "LayoutView",
            "align_content": null,
            "align_items": null,
            "align_self": null,
            "border": null,
            "bottom": null,
            "display": null,
            "flex": null,
            "flex_flow": null,
            "grid_area": null,
            "grid_auto_columns": null,
            "grid_auto_flow": null,
            "grid_auto_rows": null,
            "grid_column": null,
            "grid_gap": null,
            "grid_row": null,
            "grid_template_areas": null,
            "grid_template_columns": null,
            "grid_template_rows": null,
            "height": null,
            "justify_content": null,
            "justify_items": null,
            "left": null,
            "margin": null,
            "max_height": null,
            "max_width": null,
            "min_height": null,
            "min_width": null,
            "object_fit": null,
            "object_position": null,
            "order": null,
            "overflow": null,
            "overflow_x": null,
            "overflow_y": null,
            "padding": null,
            "right": null,
            "top": null,
            "visibility": null,
            "width": null
          }
        },
        "45a6098daaa74de18943042bb70e6cb5": {
          "model_module": "@jupyter-widgets/base",
          "model_module_version": "1.2.0",
          "model_name": "LayoutModel",
          "state": {
            "_model_module": "@jupyter-widgets/base",
            "_model_module_version": "1.2.0",
            "_model_name": "LayoutModel",
            "_view_count": null,
            "_view_module": "@jupyter-widgets/base",
            "_view_module_version": "1.2.0",
            "_view_name": "LayoutView",
            "align_content": null,
            "align_items": null,
            "align_self": null,
            "border": null,
            "bottom": null,
            "display": null,
            "flex": null,
            "flex_flow": null,
            "grid_area": null,
            "grid_auto_columns": null,
            "grid_auto_flow": null,
            "grid_auto_rows": null,
            "grid_column": null,
            "grid_gap": null,
            "grid_row": null,
            "grid_template_areas": null,
            "grid_template_columns": null,
            "grid_template_rows": null,
            "height": null,
            "justify_content": null,
            "justify_items": null,
            "left": null,
            "margin": null,
            "max_height": null,
            "max_width": null,
            "min_height": null,
            "min_width": null,
            "object_fit": null,
            "object_position": null,
            "order": null,
            "overflow": null,
            "overflow_x": null,
            "overflow_y": null,
            "padding": null,
            "right": null,
            "top": null,
            "visibility": null,
            "width": null
          }
        },
        "4999eed22373440591c816e5a9436584": {
          "model_module": "@jupyter-widgets/controls",
          "model_module_version": "1.5.0",
          "model_name": "HTMLModel",
          "state": {
            "_dom_classes": [],
            "_model_module": "@jupyter-widgets/controls",
            "_model_module_version": "1.5.0",
            "_model_name": "HTMLModel",
            "_view_count": null,
            "_view_module": "@jupyter-widgets/controls",
            "_view_module_version": "1.5.0",
            "_view_name": "HTMLView",
            "description": "",
            "description_tooltip": null,
            "layout": "IPY_MODEL_f5aca07a448a4ed4841bee0d643bd2d5",
            "placeholder": "​",
            "style": "IPY_MODEL_ee08839cb7624480a70e02fa7f236617",
            "value": ""
          }
        },
        "4fd150059bd1454d8a4142f4c8b40ce0": {
          "model_module": "@jupyter-widgets/controls",
          "model_module_version": "1.5.0",
          "model_name": "ProgressStyleModel",
          "state": {
            "_model_module": "@jupyter-widgets/controls",
            "_model_module_version": "1.5.0",
            "_model_name": "ProgressStyleModel",
            "_view_count": null,
            "_view_module": "@jupyter-widgets/base",
            "_view_module_version": "1.2.0",
            "_view_name": "StyleView",
            "bar_color": null,
            "description_width": ""
          }
        },
        "52b1ba36c4724388af95817d6dfb565c": {
          "model_module": "@jupyter-widgets/base",
          "model_module_version": "1.2.0",
          "model_name": "LayoutModel",
          "state": {
            "_model_module": "@jupyter-widgets/base",
            "_model_module_version": "1.2.0",
            "_model_name": "LayoutModel",
            "_view_count": null,
            "_view_module": "@jupyter-widgets/base",
            "_view_module_version": "1.2.0",
            "_view_name": "LayoutView",
            "align_content": null,
            "align_items": null,
            "align_self": null,
            "border": null,
            "bottom": null,
            "display": null,
            "flex": null,
            "flex_flow": null,
            "grid_area": null,
            "grid_auto_columns": null,
            "grid_auto_flow": null,
            "grid_auto_rows": null,
            "grid_column": null,
            "grid_gap": null,
            "grid_row": null,
            "grid_template_areas": null,
            "grid_template_columns": null,
            "grid_template_rows": null,
            "height": null,
            "justify_content": null,
            "justify_items": null,
            "left": null,
            "margin": null,
            "max_height": null,
            "max_width": null,
            "min_height": null,
            "min_width": null,
            "object_fit": null,
            "object_position": null,
            "order": null,
            "overflow": null,
            "overflow_x": null,
            "overflow_y": null,
            "padding": null,
            "right": null,
            "top": null,
            "visibility": null,
            "width": null
          }
        },
        "57f1c170ca204479a42789ee9f678ec7": {
          "model_module": "@jupyter-widgets/controls",
          "model_module_version": "1.5.0",
          "model_name": "HTMLModel",
          "state": {
            "_dom_classes": [],
            "_model_module": "@jupyter-widgets/controls",
            "_model_module_version": "1.5.0",
            "_model_name": "HTMLModel",
            "_view_count": null,
            "_view_module": "@jupyter-widgets/controls",
            "_view_module_version": "1.5.0",
            "_view_name": "HTMLView",
            "description": "",
            "description_tooltip": null,
            "layout": "IPY_MODEL_1c45fbd902cb48849ff0bf193ffb5fd1",
            "placeholder": "​",
            "style": "IPY_MODEL_8afdc4ca96db4ddaafed440c495ae76d",
            "value": " 9913344/? [00:00&lt;00:00, 37142334.45it/s]"
          }
        },
        "5c2e19d9077e4ea2b42474eee2d902b8": {
          "model_module": "@jupyter-widgets/base",
          "model_module_version": "1.2.0",
          "model_name": "LayoutModel",
          "state": {
            "_model_module": "@jupyter-widgets/base",
            "_model_module_version": "1.2.0",
            "_model_name": "LayoutModel",
            "_view_count": null,
            "_view_module": "@jupyter-widgets/base",
            "_view_module_version": "1.2.0",
            "_view_name": "LayoutView",
            "align_content": null,
            "align_items": null,
            "align_self": null,
            "border": null,
            "bottom": null,
            "display": null,
            "flex": null,
            "flex_flow": null,
            "grid_area": null,
            "grid_auto_columns": null,
            "grid_auto_flow": null,
            "grid_auto_rows": null,
            "grid_column": null,
            "grid_gap": null,
            "grid_row": null,
            "grid_template_areas": null,
            "grid_template_columns": null,
            "grid_template_rows": null,
            "height": null,
            "justify_content": null,
            "justify_items": null,
            "left": null,
            "margin": null,
            "max_height": null,
            "max_width": null,
            "min_height": null,
            "min_width": null,
            "object_fit": null,
            "object_position": null,
            "order": null,
            "overflow": null,
            "overflow_x": null,
            "overflow_y": null,
            "padding": null,
            "right": null,
            "top": null,
            "visibility": null,
            "width": null
          }
        },
        "5cee08a8e6c648d9a6f3affc421bba10": {
          "model_module": "@jupyter-widgets/base",
          "model_module_version": "1.2.0",
          "model_name": "LayoutModel",
          "state": {
            "_model_module": "@jupyter-widgets/base",
            "_model_module_version": "1.2.0",
            "_model_name": "LayoutModel",
            "_view_count": null,
            "_view_module": "@jupyter-widgets/base",
            "_view_module_version": "1.2.0",
            "_view_name": "LayoutView",
            "align_content": null,
            "align_items": null,
            "align_self": null,
            "border": null,
            "bottom": null,
            "display": null,
            "flex": null,
            "flex_flow": null,
            "grid_area": null,
            "grid_auto_columns": null,
            "grid_auto_flow": null,
            "grid_auto_rows": null,
            "grid_column": null,
            "grid_gap": null,
            "grid_row": null,
            "grid_template_areas": null,
            "grid_template_columns": null,
            "grid_template_rows": null,
            "height": null,
            "justify_content": null,
            "justify_items": null,
            "left": null,
            "margin": null,
            "max_height": null,
            "max_width": null,
            "min_height": null,
            "min_width": null,
            "object_fit": null,
            "object_position": null,
            "order": null,
            "overflow": null,
            "overflow_x": null,
            "overflow_y": null,
            "padding": null,
            "right": null,
            "top": null,
            "visibility": null,
            "width": null
          }
        },
        "5dce9a0766cf4081887bd3c255e623e1": {
          "model_module": "@jupyter-widgets/controls",
          "model_module_version": "1.5.0",
          "model_name": "HBoxModel",
          "state": {
            "_dom_classes": [],
            "_model_module": "@jupyter-widgets/controls",
            "_model_module_version": "1.5.0",
            "_model_name": "HBoxModel",
            "_view_count": null,
            "_view_module": "@jupyter-widgets/controls",
            "_view_module_version": "1.5.0",
            "_view_name": "HBoxView",
            "box_style": "",
            "children": [
              "IPY_MODEL_d96074ca7b624fabb632ff4205e3b76f",
              "IPY_MODEL_267ff875efab4c16902241b72f2820ec",
              "IPY_MODEL_2a0b26f6977f4f88bba7c46e777e8831"
            ],
            "layout": "IPY_MODEL_45a6098daaa74de18943042bb70e6cb5"
          }
        },
        "69e839c0415f48aaa1274025cdfe6289": {
          "model_module": "@jupyter-widgets/controls",
          "model_module_version": "1.5.0",
          "model_name": "FloatProgressModel",
          "state": {
            "_dom_classes": [],
            "_model_module": "@jupyter-widgets/controls",
            "_model_module_version": "1.5.0",
            "_model_name": "FloatProgressModel",
            "_view_count": null,
            "_view_module": "@jupyter-widgets/controls",
            "_view_module_version": "1.5.0",
            "_view_name": "ProgressView",
            "bar_style": "success",
            "description": "",
            "description_tooltip": null,
            "layout": "IPY_MODEL_78006c770f244c1d82f6a136b6c4fc12",
            "max": 4542,
            "min": 0,
            "orientation": "horizontal",
            "style": "IPY_MODEL_4fd150059bd1454d8a4142f4c8b40ce0",
            "value": 4542
          }
        },
        "6ea02a5e8f1b418dbbc2037282d15f2b": {
          "model_module": "@jupyter-widgets/base",
          "model_module_version": "1.2.0",
          "model_name": "LayoutModel",
          "state": {
            "_model_module": "@jupyter-widgets/base",
            "_model_module_version": "1.2.0",
            "_model_name": "LayoutModel",
            "_view_count": null,
            "_view_module": "@jupyter-widgets/base",
            "_view_module_version": "1.2.0",
            "_view_name": "LayoutView",
            "align_content": null,
            "align_items": null,
            "align_self": null,
            "border": null,
            "bottom": null,
            "display": null,
            "flex": null,
            "flex_flow": null,
            "grid_area": null,
            "grid_auto_columns": null,
            "grid_auto_flow": null,
            "grid_auto_rows": null,
            "grid_column": null,
            "grid_gap": null,
            "grid_row": null,
            "grid_template_areas": null,
            "grid_template_columns": null,
            "grid_template_rows": null,
            "height": null,
            "justify_content": null,
            "justify_items": null,
            "left": null,
            "margin": null,
            "max_height": null,
            "max_width": null,
            "min_height": null,
            "min_width": null,
            "object_fit": null,
            "object_position": null,
            "order": null,
            "overflow": null,
            "overflow_x": null,
            "overflow_y": null,
            "padding": null,
            "right": null,
            "top": null,
            "visibility": null,
            "width": null
          }
        },
        "7679f81b09974b13b3735cfbca9391c9": {
          "model_module": "@jupyter-widgets/controls",
          "model_module_version": "1.5.0",
          "model_name": "DescriptionStyleModel",
          "state": {
            "_model_module": "@jupyter-widgets/controls",
            "_model_module_version": "1.5.0",
            "_model_name": "DescriptionStyleModel",
            "_view_count": null,
            "_view_module": "@jupyter-widgets/base",
            "_view_module_version": "1.2.0",
            "_view_name": "StyleView",
            "description_width": ""
          }
        },
        "78006c770f244c1d82f6a136b6c4fc12": {
          "model_module": "@jupyter-widgets/base",
          "model_module_version": "1.2.0",
          "model_name": "LayoutModel",
          "state": {
            "_model_module": "@jupyter-widgets/base",
            "_model_module_version": "1.2.0",
            "_model_name": "LayoutModel",
            "_view_count": null,
            "_view_module": "@jupyter-widgets/base",
            "_view_module_version": "1.2.0",
            "_view_name": "LayoutView",
            "align_content": null,
            "align_items": null,
            "align_self": null,
            "border": null,
            "bottom": null,
            "display": null,
            "flex": null,
            "flex_flow": null,
            "grid_area": null,
            "grid_auto_columns": null,
            "grid_auto_flow": null,
            "grid_auto_rows": null,
            "grid_column": null,
            "grid_gap": null,
            "grid_row": null,
            "grid_template_areas": null,
            "grid_template_columns": null,
            "grid_template_rows": null,
            "height": null,
            "justify_content": null,
            "justify_items": null,
            "left": null,
            "margin": null,
            "max_height": null,
            "max_width": null,
            "min_height": null,
            "min_width": null,
            "object_fit": null,
            "object_position": null,
            "order": null,
            "overflow": null,
            "overflow_x": null,
            "overflow_y": null,
            "padding": null,
            "right": null,
            "top": null,
            "visibility": null,
            "width": null
          }
        },
        "8afdc4ca96db4ddaafed440c495ae76d": {
          "model_module": "@jupyter-widgets/controls",
          "model_module_version": "1.5.0",
          "model_name": "DescriptionStyleModel",
          "state": {
            "_model_module": "@jupyter-widgets/controls",
            "_model_module_version": "1.5.0",
            "_model_name": "DescriptionStyleModel",
            "_view_count": null,
            "_view_module": "@jupyter-widgets/base",
            "_view_module_version": "1.2.0",
            "_view_name": "StyleView",
            "description_width": ""
          }
        },
        "8cd0d5f69a664f8e84121b136f9b9a3a": {
          "model_module": "@jupyter-widgets/base",
          "model_module_version": "1.2.0",
          "model_name": "LayoutModel",
          "state": {
            "_model_module": "@jupyter-widgets/base",
            "_model_module_version": "1.2.0",
            "_model_name": "LayoutModel",
            "_view_count": null,
            "_view_module": "@jupyter-widgets/base",
            "_view_module_version": "1.2.0",
            "_view_name": "LayoutView",
            "align_content": null,
            "align_items": null,
            "align_self": null,
            "border": null,
            "bottom": null,
            "display": null,
            "flex": null,
            "flex_flow": null,
            "grid_area": null,
            "grid_auto_columns": null,
            "grid_auto_flow": null,
            "grid_auto_rows": null,
            "grid_column": null,
            "grid_gap": null,
            "grid_row": null,
            "grid_template_areas": null,
            "grid_template_columns": null,
            "grid_template_rows": null,
            "height": null,
            "justify_content": null,
            "justify_items": null,
            "left": null,
            "margin": null,
            "max_height": null,
            "max_width": null,
            "min_height": null,
            "min_width": null,
            "object_fit": null,
            "object_position": null,
            "order": null,
            "overflow": null,
            "overflow_x": null,
            "overflow_y": null,
            "padding": null,
            "right": null,
            "top": null,
            "visibility": null,
            "width": null
          }
        },
        "8f45f26ce85847efa6daf881ec5690a1": {
          "model_module": "@jupyter-widgets/controls",
          "model_module_version": "1.5.0",
          "model_name": "DescriptionStyleModel",
          "state": {
            "_model_module": "@jupyter-widgets/controls",
            "_model_module_version": "1.5.0",
            "_model_name": "DescriptionStyleModel",
            "_view_count": null,
            "_view_module": "@jupyter-widgets/base",
            "_view_module_version": "1.2.0",
            "_view_name": "StyleView",
            "description_width": ""
          }
        },
        "91605680145545a1a8bd096779d7d6ed": {
          "model_module": "@jupyter-widgets/base",
          "model_module_version": "1.2.0",
          "model_name": "LayoutModel",
          "state": {
            "_model_module": "@jupyter-widgets/base",
            "_model_module_version": "1.2.0",
            "_model_name": "LayoutModel",
            "_view_count": null,
            "_view_module": "@jupyter-widgets/base",
            "_view_module_version": "1.2.0",
            "_view_name": "LayoutView",
            "align_content": null,
            "align_items": null,
            "align_self": null,
            "border": null,
            "bottom": null,
            "display": null,
            "flex": null,
            "flex_flow": null,
            "grid_area": null,
            "grid_auto_columns": null,
            "grid_auto_flow": null,
            "grid_auto_rows": null,
            "grid_column": null,
            "grid_gap": null,
            "grid_row": null,
            "grid_template_areas": null,
            "grid_template_columns": null,
            "grid_template_rows": null,
            "height": null,
            "justify_content": null,
            "justify_items": null,
            "left": null,
            "margin": null,
            "max_height": null,
            "max_width": null,
            "min_height": null,
            "min_width": null,
            "object_fit": null,
            "object_position": null,
            "order": null,
            "overflow": null,
            "overflow_x": null,
            "overflow_y": null,
            "padding": null,
            "right": null,
            "top": null,
            "visibility": null,
            "width": null
          }
        },
        "94d571ba7f7144f084b6db80dbe59d5d": {
          "model_module": "@jupyter-widgets/controls",
          "model_module_version": "1.5.0",
          "model_name": "ProgressStyleModel",
          "state": {
            "_model_module": "@jupyter-widgets/controls",
            "_model_module_version": "1.5.0",
            "_model_name": "ProgressStyleModel",
            "_view_count": null,
            "_view_module": "@jupyter-widgets/base",
            "_view_module_version": "1.2.0",
            "_view_name": "StyleView",
            "bar_color": null,
            "description_width": ""
          }
        },
        "9a056700c2e546079506a0b99c09d086": {
          "model_module": "@jupyter-widgets/controls",
          "model_module_version": "1.5.0",
          "model_name": "HBoxModel",
          "state": {
            "_dom_classes": [],
            "_model_module": "@jupyter-widgets/controls",
            "_model_module_version": "1.5.0",
            "_model_name": "HBoxModel",
            "_view_count": null,
            "_view_module": "@jupyter-widgets/controls",
            "_view_module_version": "1.5.0",
            "_view_name": "HBoxView",
            "box_style": "",
            "children": [
              "IPY_MODEL_4999eed22373440591c816e5a9436584",
              "IPY_MODEL_a03d70b31f7c4240a7cb19716a386592",
              "IPY_MODEL_eb572a93d3864f979b8335d1789fb1c5"
            ],
            "layout": "IPY_MODEL_52b1ba36c4724388af95817d6dfb565c"
          }
        },
        "a03d70b31f7c4240a7cb19716a386592": {
          "model_module": "@jupyter-widgets/controls",
          "model_module_version": "1.5.0",
          "model_name": "FloatProgressModel",
          "state": {
            "_dom_classes": [],
            "_model_module": "@jupyter-widgets/controls",
            "_model_module_version": "1.5.0",
            "_model_name": "FloatProgressModel",
            "_view_count": null,
            "_view_module": "@jupyter-widgets/controls",
            "_view_module_version": "1.5.0",
            "_view_name": "ProgressView",
            "bar_style": "success",
            "description": "",
            "description_tooltip": null,
            "layout": "IPY_MODEL_6ea02a5e8f1b418dbbc2037282d15f2b",
            "max": 1648877,
            "min": 0,
            "orientation": "horizontal",
            "style": "IPY_MODEL_94d571ba7f7144f084b6db80dbe59d5d",
            "value": 1648877
          }
        },
        "a0fe5a8cf8d745cf91fa8ae98161d37e": {
          "model_module": "@jupyter-widgets/base",
          "model_module_version": "1.2.0",
          "model_name": "LayoutModel",
          "state": {
            "_model_module": "@jupyter-widgets/base",
            "_model_module_version": "1.2.0",
            "_model_name": "LayoutModel",
            "_view_count": null,
            "_view_module": "@jupyter-widgets/base",
            "_view_module_version": "1.2.0",
            "_view_name": "LayoutView",
            "align_content": null,
            "align_items": null,
            "align_self": null,
            "border": null,
            "bottom": null,
            "display": null,
            "flex": null,
            "flex_flow": null,
            "grid_area": null,
            "grid_auto_columns": null,
            "grid_auto_flow": null,
            "grid_auto_rows": null,
            "grid_column": null,
            "grid_gap": null,
            "grid_row": null,
            "grid_template_areas": null,
            "grid_template_columns": null,
            "grid_template_rows": null,
            "height": null,
            "justify_content": null,
            "justify_items": null,
            "left": null,
            "margin": null,
            "max_height": null,
            "max_width": null,
            "min_height": null,
            "min_width": null,
            "object_fit": null,
            "object_position": null,
            "order": null,
            "overflow": null,
            "overflow_x": null,
            "overflow_y": null,
            "padding": null,
            "right": null,
            "top": null,
            "visibility": null,
            "width": null
          }
        },
        "a6bf1e9751df48b989f30125122b9d04": {
          "model_module": "@jupyter-widgets/base",
          "model_module_version": "1.2.0",
          "model_name": "LayoutModel",
          "state": {
            "_model_module": "@jupyter-widgets/base",
            "_model_module_version": "1.2.0",
            "_model_name": "LayoutModel",
            "_view_count": null,
            "_view_module": "@jupyter-widgets/base",
            "_view_module_version": "1.2.0",
            "_view_name": "LayoutView",
            "align_content": null,
            "align_items": null,
            "align_self": null,
            "border": null,
            "bottom": null,
            "display": null,
            "flex": null,
            "flex_flow": null,
            "grid_area": null,
            "grid_auto_columns": null,
            "grid_auto_flow": null,
            "grid_auto_rows": null,
            "grid_column": null,
            "grid_gap": null,
            "grid_row": null,
            "grid_template_areas": null,
            "grid_template_columns": null,
            "grid_template_rows": null,
            "height": null,
            "justify_content": null,
            "justify_items": null,
            "left": null,
            "margin": null,
            "max_height": null,
            "max_width": null,
            "min_height": null,
            "min_width": null,
            "object_fit": null,
            "object_position": null,
            "order": null,
            "overflow": null,
            "overflow_x": null,
            "overflow_y": null,
            "padding": null,
            "right": null,
            "top": null,
            "visibility": null,
            "width": null
          }
        },
        "afed6d1adf5641dba90bd46a8434ddfd": {
          "model_module": "@jupyter-widgets/controls",
          "model_module_version": "1.5.0",
          "model_name": "HBoxModel",
          "state": {
            "_dom_classes": [],
            "_model_module": "@jupyter-widgets/controls",
            "_model_module_version": "1.5.0",
            "_model_name": "HBoxModel",
            "_view_count": null,
            "_view_module": "@jupyter-widgets/controls",
            "_view_module_version": "1.5.0",
            "_view_name": "HBoxView",
            "box_style": "",
            "children": [
              "IPY_MODEL_cf50f139c2db4a60b7c582f6a5f11e96",
              "IPY_MODEL_69e839c0415f48aaa1274025cdfe6289",
              "IPY_MODEL_074a4c60d5cd44808d194704cc777dc7"
            ],
            "layout": "IPY_MODEL_5c2e19d9077e4ea2b42474eee2d902b8"
          }
        },
        "b6313b0904464558a4cf9f128cf63f9c": {
          "model_module": "@jupyter-widgets/base",
          "model_module_version": "1.2.0",
          "model_name": "LayoutModel",
          "state": {
            "_model_module": "@jupyter-widgets/base",
            "_model_module_version": "1.2.0",
            "_model_name": "LayoutModel",
            "_view_count": null,
            "_view_module": "@jupyter-widgets/base",
            "_view_module_version": "1.2.0",
            "_view_name": "LayoutView",
            "align_content": null,
            "align_items": null,
            "align_self": null,
            "border": null,
            "bottom": null,
            "display": null,
            "flex": null,
            "flex_flow": null,
            "grid_area": null,
            "grid_auto_columns": null,
            "grid_auto_flow": null,
            "grid_auto_rows": null,
            "grid_column": null,
            "grid_gap": null,
            "grid_row": null,
            "grid_template_areas": null,
            "grid_template_columns": null,
            "grid_template_rows": null,
            "height": null,
            "justify_content": null,
            "justify_items": null,
            "left": null,
            "margin": null,
            "max_height": null,
            "max_width": null,
            "min_height": null,
            "min_width": null,
            "object_fit": null,
            "object_position": null,
            "order": null,
            "overflow": null,
            "overflow_x": null,
            "overflow_y": null,
            "padding": null,
            "right": null,
            "top": null,
            "visibility": null,
            "width": null
          }
        },
        "ba83630600a44b0d979563c5a58fc262": {
          "model_module": "@jupyter-widgets/base",
          "model_module_version": "1.2.0",
          "model_name": "LayoutModel",
          "state": {
            "_model_module": "@jupyter-widgets/base",
            "_model_module_version": "1.2.0",
            "_model_name": "LayoutModel",
            "_view_count": null,
            "_view_module": "@jupyter-widgets/base",
            "_view_module_version": "1.2.0",
            "_view_name": "LayoutView",
            "align_content": null,
            "align_items": null,
            "align_self": null,
            "border": null,
            "bottom": null,
            "display": null,
            "flex": null,
            "flex_flow": null,
            "grid_area": null,
            "grid_auto_columns": null,
            "grid_auto_flow": null,
            "grid_auto_rows": null,
            "grid_column": null,
            "grid_gap": null,
            "grid_row": null,
            "grid_template_areas": null,
            "grid_template_columns": null,
            "grid_template_rows": null,
            "height": null,
            "justify_content": null,
            "justify_items": null,
            "left": null,
            "margin": null,
            "max_height": null,
            "max_width": null,
            "min_height": null,
            "min_width": null,
            "object_fit": null,
            "object_position": null,
            "order": null,
            "overflow": null,
            "overflow_x": null,
            "overflow_y": null,
            "padding": null,
            "right": null,
            "top": null,
            "visibility": null,
            "width": null
          }
        },
        "baa9502fadf54a33952f681a534624d6": {
          "model_module": "@jupyter-widgets/controls",
          "model_module_version": "1.5.0",
          "model_name": "DescriptionStyleModel",
          "state": {
            "_model_module": "@jupyter-widgets/controls",
            "_model_module_version": "1.5.0",
            "_model_name": "DescriptionStyleModel",
            "_view_count": null,
            "_view_module": "@jupyter-widgets/base",
            "_view_module_version": "1.2.0",
            "_view_name": "StyleView",
            "description_width": ""
          }
        },
        "c73fd48e41b8495d8549bb0f5fef1ca5": {
          "model_module": "@jupyter-widgets/controls",
          "model_module_version": "1.5.0",
          "model_name": "DescriptionStyleModel",
          "state": {
            "_model_module": "@jupyter-widgets/controls",
            "_model_module_version": "1.5.0",
            "_model_name": "DescriptionStyleModel",
            "_view_count": null,
            "_view_module": "@jupyter-widgets/base",
            "_view_module_version": "1.2.0",
            "_view_name": "StyleView",
            "description_width": ""
          }
        },
        "cf50f139c2db4a60b7c582f6a5f11e96": {
          "model_module": "@jupyter-widgets/controls",
          "model_module_version": "1.5.0",
          "model_name": "HTMLModel",
          "state": {
            "_dom_classes": [],
            "_model_module": "@jupyter-widgets/controls",
            "_model_module_version": "1.5.0",
            "_model_name": "HTMLModel",
            "_view_count": null,
            "_view_module": "@jupyter-widgets/controls",
            "_view_module_version": "1.5.0",
            "_view_name": "HTMLView",
            "description": "",
            "description_tooltip": null,
            "layout": "IPY_MODEL_3592b42c09364878a2de85606accdde8",
            "placeholder": "​",
            "style": "IPY_MODEL_065f022805b34740a22307760d03c794",
            "value": ""
          }
        },
        "d623d04f21024d12a20aa97c46e676ef": {
          "model_module": "@jupyter-widgets/controls",
          "model_module_version": "1.5.0",
          "model_name": "HBoxModel",
          "state": {
            "_dom_classes": [],
            "_model_module": "@jupyter-widgets/controls",
            "_model_module_version": "1.5.0",
            "_model_name": "HBoxModel",
            "_view_count": null,
            "_view_module": "@jupyter-widgets/controls",
            "_view_module_version": "1.5.0",
            "_view_name": "HBoxView",
            "box_style": "",
            "children": [
              "IPY_MODEL_26adcf70e2664b5a86404a0831cbf9bb",
              "IPY_MODEL_2c3498f169c04b14bc4392a59b613d6d",
              "IPY_MODEL_57f1c170ca204479a42789ee9f678ec7"
            ],
            "layout": "IPY_MODEL_a0fe5a8cf8d745cf91fa8ae98161d37e"
          }
        },
        "d96074ca7b624fabb632ff4205e3b76f": {
          "model_module": "@jupyter-widgets/controls",
          "model_module_version": "1.5.0",
          "model_name": "HTMLModel",
          "state": {
            "_dom_classes": [],
            "_model_module": "@jupyter-widgets/controls",
            "_model_module_version": "1.5.0",
            "_model_name": "HTMLModel",
            "_view_count": null,
            "_view_module": "@jupyter-widgets/controls",
            "_view_module_version": "1.5.0",
            "_view_name": "HTMLView",
            "description": "",
            "description_tooltip": null,
            "layout": "IPY_MODEL_11cf4c4ed08b4b2d849cb023d2e5e825",
            "placeholder": "​",
            "style": "IPY_MODEL_c73fd48e41b8495d8549bb0f5fef1ca5",
            "value": ""
          }
        },
        "eb572a93d3864f979b8335d1789fb1c5": {
          "model_module": "@jupyter-widgets/controls",
          "model_module_version": "1.5.0",
          "model_name": "HTMLModel",
          "state": {
            "_dom_classes": [],
            "_model_module": "@jupyter-widgets/controls",
            "_model_module_version": "1.5.0",
            "_model_name": "HTMLModel",
            "_view_count": null,
            "_view_module": "@jupyter-widgets/controls",
            "_view_module_version": "1.5.0",
            "_view_name": "HTMLView",
            "description": "",
            "description_tooltip": null,
            "layout": "IPY_MODEL_5cee08a8e6c648d9a6f3affc421bba10",
            "placeholder": "​",
            "style": "IPY_MODEL_7679f81b09974b13b3735cfbca9391c9",
            "value": " 1649664/? [00:00&lt;00:00, 20327846.27it/s]"
          }
        },
        "ebd147d5834540528dd3dc097e9ddce1": {
          "model_module": "@jupyter-widgets/controls",
          "model_module_version": "1.5.0",
          "model_name": "ProgressStyleModel",
          "state": {
            "_model_module": "@jupyter-widgets/controls",
            "_model_module_version": "1.5.0",
            "_model_name": "ProgressStyleModel",
            "_view_count": null,
            "_view_module": "@jupyter-widgets/base",
            "_view_module_version": "1.2.0",
            "_view_name": "StyleView",
            "bar_color": null,
            "description_width": ""
          }
        },
        "ee08839cb7624480a70e02fa7f236617": {
          "model_module": "@jupyter-widgets/controls",
          "model_module_version": "1.5.0",
          "model_name": "DescriptionStyleModel",
          "state": {
            "_model_module": "@jupyter-widgets/controls",
            "_model_module_version": "1.5.0",
            "_model_name": "DescriptionStyleModel",
            "_view_count": null,
            "_view_module": "@jupyter-widgets/base",
            "_view_module_version": "1.2.0",
            "_view_name": "StyleView",
            "description_width": ""
          }
        },
        "f5aca07a448a4ed4841bee0d643bd2d5": {
          "model_module": "@jupyter-widgets/base",
          "model_module_version": "1.2.0",
          "model_name": "LayoutModel",
          "state": {
            "_model_module": "@jupyter-widgets/base",
            "_model_module_version": "1.2.0",
            "_model_name": "LayoutModel",
            "_view_count": null,
            "_view_module": "@jupyter-widgets/base",
            "_view_module_version": "1.2.0",
            "_view_name": "LayoutView",
            "align_content": null,
            "align_items": null,
            "align_self": null,
            "border": null,
            "bottom": null,
            "display": null,
            "flex": null,
            "flex_flow": null,
            "grid_area": null,
            "grid_auto_columns": null,
            "grid_auto_flow": null,
            "grid_auto_rows": null,
            "grid_column": null,
            "grid_gap": null,
            "grid_row": null,
            "grid_template_areas": null,
            "grid_template_columns": null,
            "grid_template_rows": null,
            "height": null,
            "justify_content": null,
            "justify_items": null,
            "left": null,
            "margin": null,
            "max_height": null,
            "max_width": null,
            "min_height": null,
            "min_width": null,
            "object_fit": null,
            "object_position": null,
            "order": null,
            "overflow": null,
            "overflow_x": null,
            "overflow_y": null,
            "padding": null,
            "right": null,
            "top": null,
            "visibility": null,
            "width": null
          }
        },
        "fdd0cb8870b84e13a860b8ffb5ea1ba9": {
          "model_module": "@jupyter-widgets/controls",
          "model_module_version": "1.5.0",
          "model_name": "ProgressStyleModel",
          "state": {
            "_model_module": "@jupyter-widgets/controls",
            "_model_module_version": "1.5.0",
            "_model_name": "ProgressStyleModel",
            "_view_count": null,
            "_view_module": "@jupyter-widgets/base",
            "_view_module_version": "1.2.0",
            "_view_name": "StyleView",
            "bar_color": null,
            "description_width": ""
          }
        }
      }
    }
  },
  "nbformat": 4,
  "nbformat_minor": 0
}